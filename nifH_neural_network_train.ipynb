{
 "cells": [
  {
   "cell_type": "code",
   "execution_count": 89,
   "metadata": {},
   "outputs": [],
   "source": [
    "# tensorflow 2.0.0\n",
    "import tensorflow as tf \n",
    "import keras\n",
    "from keras.preprocessing.image import load_img\n",
    "from keras.preprocessing.image import img_to_array\n",
    "import numpy as np\n",
    "from keras.layers import Input, Dense, Activation, ZeroPadding2D, BatchNormalization, Flatten, Conv2D\n",
    "from keras.layers import AveragePooling2D, MaxPooling2D, Dropout, GlobalMaxPooling2D, GlobalAveragePooling2D\n",
    "from keras.models import Model\n"
   ]
  },
  {
   "cell_type": "code",
   "execution_count": 90,
   "metadata": {},
   "outputs": [],
   "source": [
    "# to scale images consider using \n",
    "# im = im.resize(size,Image.LANCZOS) #if your images are not already the size you want    \n",
    "\n",
    "\n",
    "from PIL import Image\n",
    "import random\n",
    "def load_data():\n",
    "    from PIL import Image\n",
    "    import random\n",
    "    input_size_p = 40754\n",
    "    input_size_n = 1723\n",
    "    p_data_list = [] # positive data\n",
    "    n_data_list = [] # negative data\n",
    "    for i in range(input_size_p):\n",
    "        im = Image.open('p_images/nifH'+str(i)+'.jpg')\n",
    "    ##        Using img_to_array instead of np.array, requires to add (0,0) third tuple for the pad dimensions\n",
    "        arr = img_to_array(im)\n",
    "        if arr.shape[0] < 847:\n",
    "            dif = 847 - arr.shape[0]\n",
    "            arr = np.pad(arr,((0, dif), (0, 0), (0,0)),'constant', constant_values=(0))\n",
    "        p_data_list.append(arr)\n",
    "    #     p_data = np.array(p_data_list)\n",
    "    p_labels = [1] * 40754\n",
    "\n",
    "    random.shuffle(p_data_list)\n",
    "    X_train_list, X_test_list = p_data_list[:39754], p_data_list[39745:]\n",
    "    Y_train_list, Y_test_list = p_labels[:39754], p_labels[39745:]\n",
    "\n",
    "    # negative data loop\n",
    "    for i in range(input_size_n):\n",
    "        im = Image.open('n_images/nifH'+str(i)+'.jpg')\n",
    "        arr = img_to_array(im)\n",
    "        if arr.shape[0] < 847:\n",
    "            dif = 847 - arr.shape[0]\n",
    "            arr = np.pad(arr,((0, dif), (0, 0),(0,0)),'constant', constant_values=(0))\n",
    "        n_data_list.append(arr)\n",
    "    #     n_data = np.array(n_data_list)\n",
    "    n_labels = [0] * 1723\n",
    "\n",
    "    random.shuffle(n_data_list)\n",
    "    n_X_train_list, n_X_test_list = n_data_list[:1551], n_data_list[1551:]\n",
    "    n_Y_train_list, n_Y_test_list = n_labels[:1551], n_labels[1551:]\n",
    "\n",
    "    X_train_list = X_train_list + n_X_train_list\n",
    "    X_test_list = X_test_list + n_X_test_list\n",
    "    Y_train_list = Y_train_list+ n_Y_train_list\n",
    "    Y_test_list = Y_test_list + n_Y_test_list\n",
    "\n",
    "    X_train = np.dstack(X_train_list)\n",
    "    X_test = np.dstack(X_test_list)\n",
    "    Y_train = np.dstack(Y_train_list)\n",
    "    Y_test = np.dstack(Y_test_list)\n",
    "    \n",
    "    return X_train, Y_train, X_test, Y_test"
   ]
  },
  {
   "cell_type": "code",
   "execution_count": 91,
   "metadata": {},
   "outputs": [
    {
     "data": {
      "text/plain": [
       "847"
      ]
     },
     "execution_count": 91,
     "metadata": {},
     "output_type": "execute_result"
    }
   ],
   "source": [
    "len(X_train_list[39754])"
   ]
  },
  {
   "cell_type": "code",
   "execution_count": 92,
   "metadata": {},
   "outputs": [],
   "source": [
    "# im.show()\n",
    "X_train, Y_train, X_test, Y_test = load_data()\n"
   ]
  },
  {
   "cell_type": "code",
   "execution_count": 93,
   "metadata": {},
   "outputs": [
    {
     "data": {
      "text/plain": [
       "(41305, 847, 7, 1)"
      ]
     },
     "execution_count": 93,
     "metadata": {},
     "output_type": "execute_result"
    }
   ],
   "source": [
    "##TODO\n",
    "## the data is a 'list' of 'np arrays', it should probably be a np instead of a list\n",
    "## model\n",
    "## scale images?\n",
    "## when saving the model, also save the train and test data sets with labels becasue they are shuffeled randomly\n",
    "# X_train_tensor = X_train\n",
    "X_train.shape\n",
    "X_train = np.rollaxis(X_train,-1)\n",
    "X_train.shape\n",
    "X_train = X_train.reshape((41305, 847, 7,1))\n",
    "X_train.shape\n",
    "\n",
    "\n",
    "\n",
    "# r = X_train.reshape(101,847,7)\n",
    "# r.shape"
   ]
  },
  {
   "cell_type": "code",
   "execution_count": 94,
   "metadata": {
    "collapsed": true
   },
   "outputs": [],
   "source": [
    "#X images shape [x, 7, 1]\n",
    "## dimensions of the tensors X_train [39755, x, 7, 1] Y_train [39755] X_test  [2010, x, 7, 1] Y_test  [2010]\n",
    "# len(X_train)\n",
    "# len(X_test)"
   ]
  },
  {
   "cell_type": "code",
   "execution_count": 95,
   "metadata": {},
   "outputs": [
    {
     "name": "stdout",
     "output_type": "stream",
     "text": [
      "847 41303\n"
     ]
    }
   ],
   "source": [
    "# maximim sequence length\n",
    "m = 0\n",
    "for i in range(len(X_train)-1):\n",
    "    m = max(m, len(X_train[i]))\n",
    "print(m, i)\n",
    "# max= 847"
   ]
  },
  {
   "cell_type": "code",
   "execution_count": 96,
   "metadata": {},
   "outputs": [
    {
     "name": "stdout",
     "output_type": "stream",
     "text": [
      "847 41303\n"
     ]
    }
   ],
   "source": [
    "# miniimum sequence length\n",
    "m = 1000\n",
    "for i in range(len(X_train)-1):\n",
    "    m = min(m, len(X_train[i]))\n",
    "print(m, i)\n",
    "# min= 37"
   ]
  },
  {
   "cell_type": "code",
   "execution_count": 200,
   "metadata": {
    "collapsed": true
   },
   "outputs": [],
   "source": [
    "def nifhmodel(input_shape):\n",
    "    # defining input\n",
    "    X_input = Input(input_shape)\n",
    "    print(X_input.shape)\n",
    "    # CONV 1\n",
    "    X = Conv2D(4, (6, 4))(X_input) # try other values for i in f = (i*3, 4)\n",
    "    X = Activation('relu')(X)\n",
    "    print(X.shape)\n",
    "    # CONV 2\n",
    "    X = Conv2D(6, (6, 1))(X_input) # try other values for i in f = (i*3, 4)\n",
    "    X = Activation('relu')(X)\n",
    "    print(X.shape)\n",
    "    # Max\n",
    "    X = MaxPooling2D((2, 2))(X)\n",
    "    print(X.shape)\n",
    "    # CONV 3\n",
    "    X = Conv2D(6, (9, 1))(X_input) # try other values for i in f = (i*3, 4)\n",
    "    X = Activation('relu')(X)\n",
    "    print(X.shape)\n",
    "    # Max\n",
    "    X = MaxPooling2D((2, 2), name='max_pool_2')(X)\n",
    "    print(X.shape)\n",
    "    # CONV 4\n",
    "    X = Conv2D(12, (9, 4))(X_input) # try other values for i in f = (i*3, 4)\n",
    "    X = BatchNormalization(axis = 3, name = 'bn0')(X)\n",
    "    X = Activation('relu')(X)\n",
    "    print(X.shape)\n",
    "    # Max\n",
    "    X = MaxPooling2D((2, 1), name='max_pool_3')(X)\n",
    "    \n",
    "    # CONV 5\n",
    "    X = Conv2D(12, (9, 4))(X_input) # try other values for i in f = (i*3, 4)\n",
    "    X = Activation('relu')(X)\n",
    "    print(\"Afetr conv2 \" + str(X.shape))\n",
    "\n",
    "\n",
    "    # Max\n",
    "    X = MaxPooling2D((2, 1), name='max_pool_4')(X)\n",
    "    print(\"After max pooling \"+ str(X.shape))\n",
    "\n",
    "\n",
    "    X = Flatten()(X)\n",
    "    print(\"After flatten, before dense\" + str(X.shape))\n",
    "    X = Dense(1, activation='sigmoid', name='dense_1')(X)\n",
    "    print(\"After dense\" + str(X.shape))\n",
    "    model = Model(inputs = X_input, outputs = X)\n",
    "    \n",
    "    return model"
   ]
  },
  {
   "cell_type": "code",
   "execution_count": 201,
   "metadata": {},
   "outputs": [],
   "source": [
    "# num_data = X_train.shape[0]\n",
    "# rows = X_train[0].shape[0]\n",
    "# columns = X_train[0].shape[1]\n",
    "\n"
   ]
  },
  {
   "cell_type": "code",
   "execution_count": 202,
   "metadata": {},
   "outputs": [
    {
     "name": "stdout",
     "output_type": "stream",
     "text": [
      "(None, 847, 7, 1)\n",
      "(None, 842, 4, 4)\n",
      "(None, 842, 7, 6)\n",
      "(None, 421, 3, 6)\n",
      "(None, 839, 7, 6)\n",
      "(None, 419, 3, 6)\n",
      "(None, 839, 4, 12)\n",
      "Afetr conv2 (None, 839, 4, 12)\n",
      "After max pooling (None, 419, 4, 12)\n",
      "After flatten, before dense(None, None)\n",
      "After dense(None, 1)\n"
     ]
    },
    {
     "ename": "ValueError",
     "evalue": "Error when checking target: expected dense_1 to have 2 dimensions, but got array with shape (1, 1, 41305)",
     "output_type": "error",
     "traceback": [
      "\u001b[0;31m---------------------------------------------------------------------------\u001b[0m",
      "\u001b[0;31mValueError\u001b[0m                                Traceback (most recent call last)",
      "\u001b[0;32m<ipython-input-202-470b20af6e9b>\u001b[0m in \u001b[0;36m<module>\u001b[0;34m\u001b[0m\n\u001b[1;32m      3\u001b[0m \u001b[0mnifhmodel\u001b[0m\u001b[0;34m.\u001b[0m\u001b[0mcompile\u001b[0m\u001b[0;34m(\u001b[0m\u001b[0moptimizer\u001b[0m \u001b[0;34m=\u001b[0m \u001b[0;34m\"adam\"\u001b[0m\u001b[0;34m,\u001b[0m \u001b[0mloss\u001b[0m \u001b[0;34m=\u001b[0m \u001b[0;34m\"binary_crossentropy\"\u001b[0m\u001b[0;34m,\u001b[0m \u001b[0mmetrics\u001b[0m \u001b[0;34m=\u001b[0m \u001b[0;34m[\u001b[0m\u001b[0;34m\"accuracy\"\u001b[0m\u001b[0;34m]\u001b[0m\u001b[0;34m)\u001b[0m\u001b[0;34m\u001b[0m\u001b[0m\n\u001b[1;32m      4\u001b[0m \u001b[0;34m\u001b[0m\u001b[0m\n\u001b[0;32m----> 5\u001b[0;31m \u001b[0mnifhmodel\u001b[0m\u001b[0;34m.\u001b[0m\u001b[0mfit\u001b[0m\u001b[0;34m(\u001b[0m\u001b[0mx\u001b[0m \u001b[0;34m=\u001b[0m \u001b[0mX_train\u001b[0m\u001b[0;34m,\u001b[0m \u001b[0my\u001b[0m \u001b[0;34m=\u001b[0m \u001b[0mY_train\u001b[0m\u001b[0;34m,\u001b[0m \u001b[0mepochs\u001b[0m \u001b[0;34m=\u001b[0m \u001b[0;36m5\u001b[0m\u001b[0;34m,\u001b[0m \u001b[0mbatch_size\u001b[0m \u001b[0;34m=\u001b[0m \u001b[0;36m16\u001b[0m\u001b[0;34m)\u001b[0m\u001b[0;34m\u001b[0m\u001b[0m\n\u001b[0m\u001b[1;32m      6\u001b[0m \u001b[0;34m\u001b[0m\u001b[0m\n\u001b[1;32m      7\u001b[0m \u001b[0mpreds\u001b[0m \u001b[0;34m=\u001b[0m \u001b[0mnifhmodel\u001b[0m\u001b[0;34m.\u001b[0m\u001b[0mevaluate\u001b[0m\u001b[0;34m(\u001b[0m\u001b[0mx\u001b[0m \u001b[0;34m=\u001b[0m \u001b[0mX_test\u001b[0m\u001b[0;34m,\u001b[0m \u001b[0my\u001b[0m \u001b[0;34m=\u001b[0m \u001b[0mY_test\u001b[0m\u001b[0;34m)\u001b[0m\u001b[0;34m\u001b[0m\u001b[0m\n",
      "\u001b[0;32m/usr/local/Cellar/python3/3.6.3/Frameworks/Python.framework/Versions/3.6/lib/python3.6/site-packages/keras/engine/training.py\u001b[0m in \u001b[0;36mfit\u001b[0;34m(self, x, y, batch_size, epochs, verbose, callbacks, validation_split, validation_data, shuffle, class_weight, sample_weight, initial_epoch, steps_per_epoch, validation_steps, validation_freq, max_queue_size, workers, use_multiprocessing, **kwargs)\u001b[0m\n\u001b[1;32m   1152\u001b[0m             \u001b[0msample_weight\u001b[0m\u001b[0;34m=\u001b[0m\u001b[0msample_weight\u001b[0m\u001b[0;34m,\u001b[0m\u001b[0;34m\u001b[0m\u001b[0m\n\u001b[1;32m   1153\u001b[0m             \u001b[0mclass_weight\u001b[0m\u001b[0;34m=\u001b[0m\u001b[0mclass_weight\u001b[0m\u001b[0;34m,\u001b[0m\u001b[0;34m\u001b[0m\u001b[0m\n\u001b[0;32m-> 1154\u001b[0;31m             batch_size=batch_size)\n\u001b[0m\u001b[1;32m   1155\u001b[0m \u001b[0;34m\u001b[0m\u001b[0m\n\u001b[1;32m   1156\u001b[0m         \u001b[0;31m# Prepare validation data.\u001b[0m\u001b[0;34m\u001b[0m\u001b[0;34m\u001b[0m\u001b[0m\n",
      "\u001b[0;32m/usr/local/Cellar/python3/3.6.3/Frameworks/Python.framework/Versions/3.6/lib/python3.6/site-packages/keras/engine/training.py\u001b[0m in \u001b[0;36m_standardize_user_data\u001b[0;34m(self, x, y, sample_weight, class_weight, check_array_lengths, batch_size)\u001b[0m\n\u001b[1;32m    619\u001b[0m                 \u001b[0mfeed_output_shapes\u001b[0m\u001b[0;34m,\u001b[0m\u001b[0;34m\u001b[0m\u001b[0m\n\u001b[1;32m    620\u001b[0m                 \u001b[0mcheck_batch_axis\u001b[0m\u001b[0;34m=\u001b[0m\u001b[0;32mFalse\u001b[0m\u001b[0;34m,\u001b[0m  \u001b[0;31m# Don't enforce the batch size.\u001b[0m\u001b[0;34m\u001b[0m\u001b[0m\n\u001b[0;32m--> 621\u001b[0;31m                 exception_prefix='target')\n\u001b[0m\u001b[1;32m    622\u001b[0m \u001b[0;34m\u001b[0m\u001b[0m\n\u001b[1;32m    623\u001b[0m             \u001b[0;31m# Generate sample-wise weight values given the `sample_weight` and\u001b[0m\u001b[0;34m\u001b[0m\u001b[0;34m\u001b[0m\u001b[0m\n",
      "\u001b[0;32m/usr/local/Cellar/python3/3.6.3/Frameworks/Python.framework/Versions/3.6/lib/python3.6/site-packages/keras/engine/training_utils.py\u001b[0m in \u001b[0;36mstandardize_input_data\u001b[0;34m(data, names, shapes, check_batch_axis, exception_prefix)\u001b[0m\n\u001b[1;32m    133\u001b[0m                         \u001b[0;34m': expected '\u001b[0m \u001b[0;34m+\u001b[0m \u001b[0mnames\u001b[0m\u001b[0;34m[\u001b[0m\u001b[0mi\u001b[0m\u001b[0;34m]\u001b[0m \u001b[0;34m+\u001b[0m \u001b[0;34m' to have '\u001b[0m \u001b[0;34m+\u001b[0m\u001b[0;34m\u001b[0m\u001b[0m\n\u001b[1;32m    134\u001b[0m                         \u001b[0mstr\u001b[0m\u001b[0;34m(\u001b[0m\u001b[0mlen\u001b[0m\u001b[0;34m(\u001b[0m\u001b[0mshape\u001b[0m\u001b[0;34m)\u001b[0m\u001b[0;34m)\u001b[0m \u001b[0;34m+\u001b[0m \u001b[0;34m' dimensions, but got array '\u001b[0m\u001b[0;34m\u001b[0m\u001b[0m\n\u001b[0;32m--> 135\u001b[0;31m                         'with shape ' + str(data_shape))\n\u001b[0m\u001b[1;32m    136\u001b[0m                 \u001b[0;32mif\u001b[0m \u001b[0;32mnot\u001b[0m \u001b[0mcheck_batch_axis\u001b[0m\u001b[0;34m:\u001b[0m\u001b[0;34m\u001b[0m\u001b[0m\n\u001b[1;32m    137\u001b[0m                     \u001b[0mdata_shape\u001b[0m \u001b[0;34m=\u001b[0m \u001b[0mdata_shape\u001b[0m\u001b[0;34m[\u001b[0m\u001b[0;36m1\u001b[0m\u001b[0;34m:\u001b[0m\u001b[0;34m]\u001b[0m\u001b[0;34m\u001b[0m\u001b[0m\n",
      "\u001b[0;31mValueError\u001b[0m: Error when checking target: expected dense_1 to have 2 dimensions, but got array with shape (1, 1, 41305)"
     ]
    }
   ],
   "source": [
    "nifhmodel = nifhmodel(X_train[0].shape)\n",
    "\n",
    "nifhmodel.compile(optimizer = \"adam\", loss = \"binary_crossentropy\", metrics = [\"accuracy\"])\n",
    "\n",
    "nifhmodel.fit(x = X_train, y = Y_train, epochs = 5, batch_size = 16)\n",
    "\n",
    "preds = nifhmodel.evaluate(x = X_test, y = Y_test)\n",
    "\n",
    "print (\"Loss = \" + str(preds[0]))\n",
    "print (\"Test Accuracy = \" + str(preds[1]))"
   ]
  },
  {
   "cell_type": "code",
   "execution_count": null,
   "metadata": {
    "collapsed": true
   },
   "outputs": [],
   "source": [
    "ValueError: Error when checking target: expected dense_1 to have 2 dimensions, but got array with shape (1, 1, 41305)\n"
   ]
  },
  {
   "cell_type": "code",
   "execution_count": null,
   "metadata": {
    "collapsed": true
   },
   "outputs": [],
   "source": []
  }
 ],
 "metadata": {
  "kernelspec": {
   "display_name": "Python 3",
   "language": "python",
   "name": "python3"
  },
  "language_info": {
   "codemirror_mode": {
    "name": "ipython",
    "version": 3
   },
   "file_extension": ".py",
   "mimetype": "text/x-python",
   "name": "python",
   "nbconvert_exporter": "python",
   "pygments_lexer": "ipython3",
   "version": "3.6.3"
  }
 },
 "nbformat": 4,
 "nbformat_minor": 2
}
