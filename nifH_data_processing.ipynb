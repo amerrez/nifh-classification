{
 "cells": [
  {
   "cell_type": "code",
   "execution_count": 1,
   "metadata": {
    "collapsed": true
   },
   "outputs": [],
   "source": [
    "import pandas as pd\n",
    "positive_data = pd.read_csv(\"data/NifH_Q10_S10.csv\", header = None)\n",
    "negative_data = pd.read_csv(\"data/NifH_Qminus10_to_Qminus50.csv\", header = None)\n",
    "negative_seeds_data = pd.read_csv(\"data/nifD.seeds_clean.txt\", sep=\"\\t\", header = None)\n",
    "\n",
    "# Assigning column names\n",
    "positive_data.columns = ['protein_name', 'protein_sequence']\n",
    "negative_data.columns = [\"protein_name\", \"protein_sequence\"]\n",
    "negative_seeds_data.columns = [\"protein_name\", \"protein_sequence\"]"
   ]
  },
  {
   "cell_type": "code",
   "execution_count": 2,
   "metadata": {},
   "outputs": [
    {
     "data": {
      "text/html": [
       "<div>\n",
       "<style scoped>\n",
       "    .dataframe tbody tr th:only-of-type {\n",
       "        vertical-align: middle;\n",
       "    }\n",
       "\n",
       "    .dataframe tbody tr th {\n",
       "        vertical-align: top;\n",
       "    }\n",
       "\n",
       "    .dataframe thead th {\n",
       "        text-align: right;\n",
       "    }\n",
       "</style>\n",
       "<table border=\"1\" class=\"dataframe\">\n",
       "  <thead>\n",
       "    <tr style=\"text-align: right;\">\n",
       "      <th></th>\n",
       "      <th>protein_name</th>\n",
       "      <th>protein_sequence</th>\n",
       "    </tr>\n",
       "  </thead>\n",
       "  <tbody>\n",
       "    <tr>\n",
       "      <th>count</th>\n",
       "      <td>290</td>\n",
       "      <td>290</td>\n",
       "    </tr>\n",
       "    <tr>\n",
       "      <th>unique</th>\n",
       "      <td>290</td>\n",
       "      <td>264</td>\n",
       "    </tr>\n",
       "    <tr>\n",
       "      <th>top</th>\n",
       "      <td>Q8KIP2 670 bp</td>\n",
       "      <td>mstvednkqliqdvleaypdkakkkrekhlnvheegktdcgvksnv...</td>\n",
       "    </tr>\n",
       "    <tr>\n",
       "      <th>freq</th>\n",
       "      <td>1</td>\n",
       "      <td>7</td>\n",
       "    </tr>\n",
       "  </tbody>\n",
       "</table>\n",
       "</div>"
      ],
      "text/plain": [
       "         protein_name                                   protein_sequence\n",
       "count             290                                                290\n",
       "unique            290                                                264\n",
       "top     Q8KIP2 670 bp  mstvednkqliqdvleaypdkakkkrekhlnvheegktdcgvksnv...\n",
       "freq                1                                                  7"
      ]
     },
     "execution_count": 2,
     "metadata": {},
     "output_type": "execute_result"
    }
   ],
   "source": [
    "# print(train)\n",
    "negative_seeds_data.describe()"
   ]
  },
  {
   "cell_type": "code",
   "execution_count": 3,
   "metadata": {},
   "outputs": [
    {
     "data": {
      "text/plain": [
       "protein_name                                            O27605 670 bp\n",
       "protein_sequence    mpfklfdvdaeiperkkhvyikkkedpeedlplcntktipgcmter...\n",
       "Name: 0, dtype: object"
      ]
     },
     "execution_count": 3,
     "metadata": {},
     "output_type": "execute_result"
    }
   ],
   "source": [
    "# print first entry - sanity check\n",
    "negative_seeds_data.iloc[0]"
   ]
  },
  {
   "cell_type": "code",
   "execution_count": 4,
   "metadata": {
    "collapsed": true
   },
   "outputs": [],
   "source": [
    "# clear any white spaces\n",
    "positive_data['protein_sequence'] = positive_data['protein_sequence'].str.strip()\n",
    "negative_data['protein_sequence'] = negative_data['protein_sequence'].str.strip()\n",
    "negative_seeds_data['protein_sequence'] = negative_seeds_data['protein_sequence'].str.strip()\n",
    "\n",
    "# Remove non [A-Z][a-z] characters\n",
    "positive_data['protein_sequence'] = positive_data.protein_sequence.str.replace('[^a-zA-Z]', '')\n",
    "negative_data['protein_sequence'] = negative_data.protein_sequence.str.replace('[^a-zA-Z]', '')\n",
    "negative_seeds_data['protein_sequence'] = negative_seeds_data.protein_sequence.str.replace('[^a-zA-Z]', '')\n",
    "\n"
   ]
  },
  {
   "cell_type": "code",
   "execution_count": 5,
   "metadata": {
    "collapsed": true
   },
   "outputs": [],
   "source": [
    "# All upper case?\n",
    "# positive_data['sequence_isupper'] = map(lambda x: x.isupper(), positive_data['protein_sequence'])\n",
    "# negative_data['sequence_isupper'] = map(lambda x: x.isupper(), negative_data['protein_sequence'])\n",
    "# negative_seeds_data['sequence_isupper'] = map(lambda x: x.isupper(), negative_seeds_data['protein_sequence'])\n",
    "# negative_seeds_data.describe()\n"
   ]
  },
  {
   "cell_type": "code",
   "execution_count": 6,
   "metadata": {},
   "outputs": [
    {
     "data": {
      "text/html": [
       "<div>\n",
       "<style scoped>\n",
       "    .dataframe tbody tr th:only-of-type {\n",
       "        vertical-align: middle;\n",
       "    }\n",
       "\n",
       "    .dataframe tbody tr th {\n",
       "        vertical-align: top;\n",
       "    }\n",
       "\n",
       "    .dataframe thead th {\n",
       "        text-align: right;\n",
       "    }\n",
       "</style>\n",
       "<table border=\"1\" class=\"dataframe\">\n",
       "  <thead>\n",
       "    <tr style=\"text-align: right;\">\n",
       "      <th></th>\n",
       "      <th>protein_name</th>\n",
       "      <th>protein_sequence</th>\n",
       "    </tr>\n",
       "  </thead>\n",
       "  <tbody>\n",
       "    <tr>\n",
       "      <th>count</th>\n",
       "      <td>290</td>\n",
       "      <td>290</td>\n",
       "    </tr>\n",
       "    <tr>\n",
       "      <th>unique</th>\n",
       "      <td>290</td>\n",
       "      <td>264</td>\n",
       "    </tr>\n",
       "    <tr>\n",
       "      <th>top</th>\n",
       "      <td>Q8KIP2 670 bp</td>\n",
       "      <td>MSTVEDNKQLIQDVLEAYPDKAKKKREKHLNVHEEGKTDCGVKSNV...</td>\n",
       "    </tr>\n",
       "    <tr>\n",
       "      <th>freq</th>\n",
       "      <td>1</td>\n",
       "      <td>7</td>\n",
       "    </tr>\n",
       "  </tbody>\n",
       "</table>\n",
       "</div>"
      ],
      "text/plain": [
       "         protein_name                                   protein_sequence\n",
       "count             290                                                290\n",
       "unique            290                                                264\n",
       "top     Q8KIP2 670 bp  MSTVEDNKQLIQDVLEAYPDKAKKKREKHLNVHEEGKTDCGVKSNV...\n",
       "freq                1                                                  7"
      ]
     },
     "execution_count": 6,
     "metadata": {},
     "output_type": "execute_result"
    }
   ],
   "source": [
    "# convert small letter to capital letters\n",
    "positive_data['protein_sequence'] = positive_data['protein_sequence'].apply(lambda s:s.upper())\n",
    "negative_data['protein_sequence'] = negative_data['protein_sequence'].apply(lambda s:s.upper())\n",
    "negative_seeds_data['protein_sequence'] = negative_seeds_data['protein_sequence'].apply(lambda s:s.upper())\n",
    "negative_seeds_data.describe()"
   ]
  },
  {
   "cell_type": "code",
   "execution_count": 7,
   "metadata": {},
   "outputs": [
    {
     "name": "stdout",
     "output_type": "stream",
     "text": [
      "      protein_name                                   protein_sequence\n",
      "5    B9E5J9 670 bp  MKKVLDQVLEVYPAKTFKNRKKHILIKSNDEPNPVIQANVRTVPGI...\n",
      "13   C4IC65 670 bp  MSKIDSVLDKYSAKVYKNRKKHVLELEHETQEIDANRRSVPGLINH...\n",
      "48   C5U390 670 bp  MTTLKTDPGVDLESFVDEVTSLYPPKVAKKRRAHMVVRKDGDPGLA...\n",
      "59   B5XPH1 670 bp  MTNATGERNLALIQEVLEVFPETARKERRKHMMISDPQMESVGKCI...\n",
      "80   C7DP79 670 bp  MSLDYENDGALHAKLIEEVLSQYPDKAAKRRKKHLSVAKSGDEAGE...\n",
      "81   C7DP97 670 bp  MSLDYENDGALHAKLIEEVLSQYPDKAAKRRKKHLSVAKSGDEAGE...\n",
      "97   C7DP52 670 bp  MSREYENDGALHAKLIEEVLSHYPDKAAKRRKKHLNVAKSGNEAGG...\n",
      "141  C5TI44 670 bp  MSLNEEETIFNTRLIEEVLEAYPAKAKKRRQKHLTVAKAPDTEADP...\n",
      "166  B5ER75 670 bp  MSITAEETREQIVAETKTRNRALIDEVLKVYPEKTAKRRAKHLNVF...\n",
      "178  B3QB46 670 bp  MSTAVAESPADIKERNKKLIGEVLEAYPDKSAKRRAKHLNTYDAEK...\n",
      "194  C7QV34 670 bp  MSTVEDRKQLIQDVLDTYPEKLAKKRSKHLNVYEEGKDDCGVKSNI...\n",
      "198  B3F2I1 670 bp  MSTVEDNKQLIQDVLEAYPDKAKKKREKHLNVHEEGKTDCGVKSNV...\n",
      "199  B3F2H9 670 bp  MSTVEDNKQLIQDVLEAYPDKAKKKREKHLNVHEEGKTDCGVKSNV...\n",
      "200  B3F2H7 670 bp  MSTVEDNKQLIQDVLEAYPDKAKKKREKHLNVHEEGKTDCGVKSNV...\n",
      "201  B3F2J2 670 bp  MSTVEDNKQLIQDVLEAYPDKAKKKREKHLNVHEEGKTDCGVKSNV...\n",
      "202  B3F2I5 670 bp  MSTVEDNKQLIQDVLEAYPDKAKKKREKHLNVHEEGKTDCGVKSNV...\n",
      "203  B3F5J1 670 bp  MSTVEDNKQLIQDVLEAYPDKAKKKREKHLNVHEEGKTDCGVKSNV...\n",
      "212  Q547V0 670 bp  MTPPENKNLVDENKELIQEVLKAYPEKSRKKREKHLNVHEENKSDC...\n",
      "213  Q71MH6 670 bp  MTPPENKNLVDENKELIQEVLKAYPEKSRKKREKHLNVHEENKSDC...\n",
      "220  Q8GPM1 670 bp  MTPPENKNLIEEHKELIKEVLQAYPEKSRKKREKHLNVHEEGKSDC...\n",
      "221  Q7X5A7 670 bp  MTPPENKNLIEEHKELIKEVLQAYPEKSRKKREKHLNVHEEGKSDC...\n",
      "222  Q47918 670 bp  MTPPENKNLIEEHKELIKEVLQAYPEKSRKKREKHLNVHEEGKSDC...\n",
      "232  Q8GPM7 670 bp  MTPPDDKKIVEQRKELVKEVLKAYPEKAAKKREKHLNVFEEGKADC...\n",
      "240  B3F2I7 670 bp  MTPPESVTLEENAATAVDPKELIKDVLEAYPEKGRKKREKHLNVYQ...\n",
      "241  B3F2H6 670 bp  MTPPESVTLEENAATAVDPKELIKDVLEAYPEKGRKKREKHLNVYQ...\n",
      "242  B3F2I2 670 bp  MTPPESVTLEENAATAVDPKELIKDVLEAYPEKGRKKREKHLNVYQ...\n"
     ]
    },
    {
     "data": {
      "text/html": [
       "<div>\n",
       "<style scoped>\n",
       "    .dataframe tbody tr th:only-of-type {\n",
       "        vertical-align: middle;\n",
       "    }\n",
       "\n",
       "    .dataframe tbody tr th {\n",
       "        vertical-align: top;\n",
       "    }\n",
       "\n",
       "    .dataframe thead th {\n",
       "        text-align: right;\n",
       "    }\n",
       "</style>\n",
       "<table border=\"1\" class=\"dataframe\">\n",
       "  <thead>\n",
       "    <tr style=\"text-align: right;\">\n",
       "      <th></th>\n",
       "      <th>protein_name</th>\n",
       "      <th>protein_sequence</th>\n",
       "    </tr>\n",
       "  </thead>\n",
       "  <tbody>\n",
       "    <tr>\n",
       "      <th>count</th>\n",
       "      <td>290</td>\n",
       "      <td>290</td>\n",
       "    </tr>\n",
       "    <tr>\n",
       "      <th>unique</th>\n",
       "      <td>290</td>\n",
       "      <td>264</td>\n",
       "    </tr>\n",
       "    <tr>\n",
       "      <th>top</th>\n",
       "      <td>Q8KIP2 670 bp</td>\n",
       "      <td>MSTVEDNKQLIQDVLEAYPDKAKKKREKHLNVHEEGKTDCGVKSNV...</td>\n",
       "    </tr>\n",
       "    <tr>\n",
       "      <th>freq</th>\n",
       "      <td>1</td>\n",
       "      <td>7</td>\n",
       "    </tr>\n",
       "  </tbody>\n",
       "</table>\n",
       "</div>"
      ],
      "text/plain": [
       "         protein_name                                   protein_sequence\n",
       "count             290                                                290\n",
       "unique            290                                                264\n",
       "top     Q8KIP2 670 bp  MSTVEDNKQLIQDVLEAYPDKAKKKREKHLNVHEEGKTDCGVKSNV...\n",
       "freq                1                                                  7"
      ]
     },
     "execution_count": 7,
     "metadata": {},
     "output_type": "execute_result"
    }
   ],
   "source": [
    "# find duplicates \n",
    "dups = negative_seeds_data[negative_seeds_data.duplicated('protein_sequence')]\n",
    "# print Duplicates\n",
    "print(dups)\n",
    "# for i in range(len(dups)):\n",
    "#     if dups[i] == True:\n",
    "#         print(dups[i])\n",
    "negative_seeds_data.describe()"
   ]
  },
  {
   "cell_type": "code",
   "execution_count": 8,
   "metadata": {},
   "outputs": [
    {
     "data": {
      "text/html": [
       "<div>\n",
       "<style scoped>\n",
       "    .dataframe tbody tr th:only-of-type {\n",
       "        vertical-align: middle;\n",
       "    }\n",
       "\n",
       "    .dataframe tbody tr th {\n",
       "        vertical-align: top;\n",
       "    }\n",
       "\n",
       "    .dataframe thead th {\n",
       "        text-align: right;\n",
       "    }\n",
       "</style>\n",
       "<table border=\"1\" class=\"dataframe\">\n",
       "  <thead>\n",
       "    <tr style=\"text-align: right;\">\n",
       "      <th></th>\n",
       "      <th>protein_name</th>\n",
       "      <th>protein_sequence</th>\n",
       "    </tr>\n",
       "  </thead>\n",
       "  <tbody>\n",
       "    <tr>\n",
       "      <th>count</th>\n",
       "      <td>264</td>\n",
       "      <td>264</td>\n",
       "    </tr>\n",
       "    <tr>\n",
       "      <th>unique</th>\n",
       "      <td>264</td>\n",
       "      <td>264</td>\n",
       "    </tr>\n",
       "    <tr>\n",
       "      <th>top</th>\n",
       "      <td>B3F2J4 670 bp</td>\n",
       "      <td>MSTVEDNKQLIQDVLEAYPEKAKKQRAKHLNVHEEGKADCGVKSNV...</td>\n",
       "    </tr>\n",
       "    <tr>\n",
       "      <th>freq</th>\n",
       "      <td>1</td>\n",
       "      <td>1</td>\n",
       "    </tr>\n",
       "  </tbody>\n",
       "</table>\n",
       "</div>"
      ],
      "text/plain": [
       "         protein_name                                   protein_sequence\n",
       "count             264                                                264\n",
       "unique            264                                                264\n",
       "top     B3F2J4 670 bp  MSTVEDNKQLIQDVLEAYPEKAKKQRAKHLNVHEEGKADCGVKSNV...\n",
       "freq                1                                                  1"
      ]
     },
     "execution_count": 8,
     "metadata": {},
     "output_type": "execute_result"
    }
   ],
   "source": [
    "# drop duplicates \n",
    "positive_data.drop_duplicates(subset='protein_sequence', keep='first', inplace=True)\n",
    "negative_data.drop_duplicates(subset='protein_sequence', keep='first', inplace=True)\n",
    "negative_seeds_data.drop_duplicates(subset='protein_sequence', keep='first', inplace=True)\n",
    "negative_seeds_data.describe()\n"
   ]
  },
  {
   "cell_type": "code",
   "execution_count": 9,
   "metadata": {},
   "outputs": [
    {
     "data": {
      "text/html": [
       "<div>\n",
       "<style scoped>\n",
       "    .dataframe tbody tr th:only-of-type {\n",
       "        vertical-align: middle;\n",
       "    }\n",
       "\n",
       "    .dataframe tbody tr th {\n",
       "        vertical-align: top;\n",
       "    }\n",
       "\n",
       "    .dataframe thead th {\n",
       "        text-align: right;\n",
       "    }\n",
       "</style>\n",
       "<table border=\"1\" class=\"dataframe\">\n",
       "  <thead>\n",
       "    <tr style=\"text-align: right;\">\n",
       "      <th></th>\n",
       "      <th>protein_name</th>\n",
       "      <th>protein_sequence</th>\n",
       "    </tr>\n",
       "  </thead>\n",
       "  <tbody>\n",
       "    <tr>\n",
       "      <th>count</th>\n",
       "      <td>42741</td>\n",
       "      <td>42741</td>\n",
       "    </tr>\n",
       "    <tr>\n",
       "      <th>unique</th>\n",
       "      <td>42741</td>\n",
       "      <td>42741</td>\n",
       "    </tr>\n",
       "    <tr>\n",
       "      <th>top</th>\n",
       "      <td>AEP26283.1</td>\n",
       "      <td>GKGGIGKSTTTQNTVAALAEMGKKVMVVGCDPKADSTRLLLNGLCQ...</td>\n",
       "    </tr>\n",
       "    <tr>\n",
       "      <th>freq</th>\n",
       "      <td>1</td>\n",
       "      <td>1</td>\n",
       "    </tr>\n",
       "  </tbody>\n",
       "</table>\n",
       "</div>"
      ],
      "text/plain": [
       "       protein_name                                   protein_sequence\n",
       "count         42741                                              42741\n",
       "unique        42741                                              42741\n",
       "top      AEP26283.1  GKGGIGKSTTTQNTVAALAEMGKKVMVVGCDPKADSTRLLLNGLCQ...\n",
       "freq              1                                                  1"
      ]
     },
     "execution_count": 9,
     "metadata": {},
     "output_type": "execute_result"
    }
   ],
   "source": [
    "# check for duplicates between different data sets\n",
    "# combine two dfs\n",
    "pieces = {'x': positive_data, 'y': negative_data, 'z': negative_seeds_data}\n",
    "df_piece = pd.concat(pieces)\n",
    "df_piece.describe() # the description shows that all sequesces are unique\n",
    "# print(len(positive_data))\n",
    "# print(len(negative_data))\n",
    "# print(len(negative_seeds_data))\n",
    "# print(len(df_piece))"
   ]
  },
  {
   "cell_type": "code",
   "execution_count": null,
   "metadata": {
    "collapsed": true
   },
   "outputs": [],
   "source": []
  },
  {
   "cell_type": "code",
   "execution_count": 11,
   "metadata": {},
   "outputs": [
    {
     "name": "stdout",
     "output_type": "stream",
     "text": [
      "{'H', 'F', 'Q', 'K', 'I', 'Y', 'R', 'G', 'V', 'P', 'S', 'C', 'M', 'X', 'A', 'W', 'L', 'E', 'N', 'T', 'D'}\n",
      "21\n"
     ]
    }
   ],
   "source": [
    "# How many unique amono acids do we have \n",
    "letters = set()\n",
    "for i in range(200): # taking a smple of 200\n",
    "    for char in positive_data.iloc[i].protein_sequence:\n",
    "        letters.add(char)\n",
    "print(letters)\n",
    "print(len(letters))\n",
    "# we have 21 different amono acids"
   ]
  },
  {
   "cell_type": "code",
   "execution_count": 47,
   "metadata": {
    "collapsed": true
   },
   "outputs": [],
   "source": [
    "## buidling data tensor for 'positive_data' data set\n",
    "##\n",
    "import numpy as np\n",
    "\n",
    "## make this loop in numpy instead of a python list\n",
    "multi_2d_sequences_3d = []\n",
    "for seq_str in positive_data['protein_sequence']:\n",
    "    sequence_2d = []\n",
    "    for ch in seq_str:\n",
    "        z = [255 if int(c) == 1 else 0 for c in list(bin(ord(ch))[2:])]\n",
    "        sequence_2d.append(np.array(z))\n",
    "    multi_2d_sequences_3d.append(np.array(sequence_2d))\n",
    "multi_2d_sequences_3d_np = np.array(multi_2d_sequences_3d)\n",
    "# sequences_all_2d\n"
   ]
  },
  {
   "cell_type": "code",
   "execution_count": 9,
   "metadata": {},
   "outputs": [],
   "source": [
    "## buidling data tensor for 'negative_data' data set\n",
    "##\n",
    "## make this loop in numpy instead of a python list\n",
    "import numpy as np\n",
    "n_multi_2d_sequences_3d = []\n",
    "for seq_str in negative_data['protein_sequence']:\n",
    "    n_sequence_2d = []\n",
    "    for ch in seq_str:\n",
    "        z = [255 if int(c) == 1 else 0 for c in list(bin(ord(ch))[2:])]\n",
    "        n_sequence_2d.append(np.array(z))\n",
    "    n_multi_2d_sequences_3d.append(np.array(n_sequence_2d))\n",
    "n_multi_2d_sequences_3d_np = np.array(n_multi_2d_sequences_3d)"
   ]
  },
  {
   "cell_type": "code",
   "execution_count": 67,
   "metadata": {
    "collapsed": true
   },
   "outputs": [],
   "source": [
    "# save as images positive data set\n",
    "from PIL import Image \n",
    "for index in range(multi_2d_sequences_3d_np.shape[0]):\n",
    "    img = Image.fromarray(multi_2d_sequences_3d_np[index].astype('uint8'))\n",
    "    img.save('p_images/nifH' + str(index) + '.jpg', 'JPEG')\n"
   ]
  },
  {
   "cell_type": "code",
   "execution_count": 11,
   "metadata": {},
   "outputs": [],
   "source": [
    "# save as images negative data set\n",
    "from PIL import Image \n",
    "for index in range(n_multi_2d_sequences_3d_np.shape[0]):\n",
    "    img = Image.fromarray(n_multi_2d_sequences_3d_np[index].astype('uint8'))\n",
    "    img.save('n_images/nifH' + str(index) + '.jpg', 'JPEG')\n",
    "\n"
   ]
  },
  {
   "cell_type": "code",
   "execution_count": 2,
   "metadata": {
    "collapsed": true
   },
   "outputs": [],
   "source": []
  },
  {
   "cell_type": "code",
   "execution_count": 3,
   "metadata": {
    "collapsed": true
   },
   "outputs": [],
   "source": []
  },
  {
   "cell_type": "code",
   "execution_count": null,
   "metadata": {
    "collapsed": true
   },
   "outputs": [],
   "source": []
  }
 ],
 "metadata": {
  "kernelspec": {
   "display_name": "Python 3",
   "language": "python",
   "name": "python3"
  },
  "language_info": {
   "codemirror_mode": {
    "name": "ipython",
    "version": 3
   },
   "file_extension": ".py",
   "mimetype": "text/x-python",
   "name": "python",
   "nbconvert_exporter": "python",
   "pygments_lexer": "ipython3",
   "version": "3.6.3"
  }
 },
 "nbformat": 4,
 "nbformat_minor": 2
}
